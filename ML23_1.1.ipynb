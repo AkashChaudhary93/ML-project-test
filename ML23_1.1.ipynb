{
 "cells": [
  {
   "cell_type": "code",
   "execution_count": 1,
   "id": "c4ab7e13",
   "metadata": {},
   "outputs": [],
   "source": [
    "# Libraries for data handling, visualization, modeling, and widgets\n",
    "import pandas as pd\n",
    "import numpy as np\n",
    "import matplotlib.pyplot as plt\n",
    "import seaborn as sns\n",
    "import ipywidgets as widgets\n",
    "from IPython.display import display, clear_output\n",
    "\n",
    "from sklearn.model_selection import train_test_split, GridSearchCV\n",
    "from sklearn.preprocessing import StandardScaler, OneHotEncoder, OrdinalEncoder\n",
    "from sklearn.compose import ColumnTransformer\n",
    "from sklearn.pipeline import Pipeline\n",
    "from sklearn.metrics import (accuracy_score, mean_absolute_error, r2_score,\n",
    "                             confusion_matrix, classification_report,\n",
    "                             mean_squared_error)\n",
    "from xgboost import XGBClassifier, XGBRegressor\n",
    "import joblib\n"
   ]
  },
  {
   "cell_type": "code",
   "execution_count": 2,
   "id": "b56e543d",
   "metadata": {},
   "outputs": [
    {
     "ename": "KeyError",
     "evalue": "'[Ellipsis] not in index'",
     "output_type": "error",
     "traceback": [
      "\u001b[31m---------------------------------------------------------------------------\u001b[39m",
      "\u001b[31mKeyError\u001b[39m                                  Traceback (most recent call last)",
      "\u001b[36mCell\u001b[39m\u001b[36m \u001b[39m\u001b[32mIn[2]\u001b[39m\u001b[32m, line 12\u001b[39m\n\u001b[32m     10\u001b[39m \u001b[38;5;66;03m# Keep only the required columns\u001b[39;00m\n\u001b[32m     11\u001b[39m required_columns = numerical_features + categorical_features + [target_col_college, target_col_salary]\n\u001b[32m---> \u001b[39m\u001b[32m12\u001b[39m df = \u001b[43mdf\u001b[49m\u001b[43m[\u001b[49m\u001b[43mrequired_columns\u001b[49m\u001b[43m]\u001b[49m\n\u001b[32m     13\u001b[39m \u001b[38;5;28mprint\u001b[39m(\u001b[33m\"\u001b[39m\u001b[33m✅ Data loaded successfully. Shape:\u001b[39m\u001b[33m\"\u001b[39m, df.shape)\n",
      "\u001b[36mFile \u001b[39m\u001b[32mc:\\Users\\Akash\\AppData\\Local\\Programs\\Python\\Python313\\Lib\\site-packages\\pandas\\core\\frame.py:4108\u001b[39m, in \u001b[36mDataFrame.__getitem__\u001b[39m\u001b[34m(self, key)\u001b[39m\n\u001b[32m   4106\u001b[39m     \u001b[38;5;28;01mif\u001b[39;00m is_iterator(key):\n\u001b[32m   4107\u001b[39m         key = \u001b[38;5;28mlist\u001b[39m(key)\n\u001b[32m-> \u001b[39m\u001b[32m4108\u001b[39m     indexer = \u001b[38;5;28;43mself\u001b[39;49m\u001b[43m.\u001b[49m\u001b[43mcolumns\u001b[49m\u001b[43m.\u001b[49m\u001b[43m_get_indexer_strict\u001b[49m\u001b[43m(\u001b[49m\u001b[43mkey\u001b[49m\u001b[43m,\u001b[49m\u001b[43m \u001b[49m\u001b[33;43m\"\u001b[39;49m\u001b[33;43mcolumns\u001b[39;49m\u001b[33;43m\"\u001b[39;49m\u001b[43m)\u001b[49m[\u001b[32m1\u001b[39m]\n\u001b[32m   4110\u001b[39m \u001b[38;5;66;03m# take() does not accept boolean indexers\u001b[39;00m\n\u001b[32m   4111\u001b[39m \u001b[38;5;28;01mif\u001b[39;00m \u001b[38;5;28mgetattr\u001b[39m(indexer, \u001b[33m\"\u001b[39m\u001b[33mdtype\u001b[39m\u001b[33m\"\u001b[39m, \u001b[38;5;28;01mNone\u001b[39;00m) == \u001b[38;5;28mbool\u001b[39m:\n",
      "\u001b[36mFile \u001b[39m\u001b[32mc:\\Users\\Akash\\AppData\\Local\\Programs\\Python\\Python313\\Lib\\site-packages\\pandas\\core\\indexes\\base.py:6200\u001b[39m, in \u001b[36mIndex._get_indexer_strict\u001b[39m\u001b[34m(self, key, axis_name)\u001b[39m\n\u001b[32m   6197\u001b[39m \u001b[38;5;28;01melse\u001b[39;00m:\n\u001b[32m   6198\u001b[39m     keyarr, indexer, new_indexer = \u001b[38;5;28mself\u001b[39m._reindex_non_unique(keyarr)\n\u001b[32m-> \u001b[39m\u001b[32m6200\u001b[39m \u001b[38;5;28;43mself\u001b[39;49m\u001b[43m.\u001b[49m\u001b[43m_raise_if_missing\u001b[49m\u001b[43m(\u001b[49m\u001b[43mkeyarr\u001b[49m\u001b[43m,\u001b[49m\u001b[43m \u001b[49m\u001b[43mindexer\u001b[49m\u001b[43m,\u001b[49m\u001b[43m \u001b[49m\u001b[43maxis_name\u001b[49m\u001b[43m)\u001b[49m\n\u001b[32m   6202\u001b[39m keyarr = \u001b[38;5;28mself\u001b[39m.take(indexer)\n\u001b[32m   6203\u001b[39m \u001b[38;5;28;01mif\u001b[39;00m \u001b[38;5;28misinstance\u001b[39m(key, Index):\n\u001b[32m   6204\u001b[39m     \u001b[38;5;66;03m# GH 42790 - Preserve name from an Index\u001b[39;00m\n",
      "\u001b[36mFile \u001b[39m\u001b[32mc:\\Users\\Akash\\AppData\\Local\\Programs\\Python\\Python313\\Lib\\site-packages\\pandas\\core\\indexes\\base.py:6252\u001b[39m, in \u001b[36mIndex._raise_if_missing\u001b[39m\u001b[34m(self, key, indexer, axis_name)\u001b[39m\n\u001b[32m   6249\u001b[39m     \u001b[38;5;28;01mraise\u001b[39;00m \u001b[38;5;167;01mKeyError\u001b[39;00m(\u001b[33mf\u001b[39m\u001b[33m\"\u001b[39m\u001b[33mNone of [\u001b[39m\u001b[38;5;132;01m{\u001b[39;00mkey\u001b[38;5;132;01m}\u001b[39;00m\u001b[33m] are in the [\u001b[39m\u001b[38;5;132;01m{\u001b[39;00maxis_name\u001b[38;5;132;01m}\u001b[39;00m\u001b[33m]\u001b[39m\u001b[33m\"\u001b[39m)\n\u001b[32m   6251\u001b[39m not_found = \u001b[38;5;28mlist\u001b[39m(ensure_index(key)[missing_mask.nonzero()[\u001b[32m0\u001b[39m]].unique())\n\u001b[32m-> \u001b[39m\u001b[32m6252\u001b[39m \u001b[38;5;28;01mraise\u001b[39;00m \u001b[38;5;167;01mKeyError\u001b[39;00m(\u001b[33mf\u001b[39m\u001b[33m\"\u001b[39m\u001b[38;5;132;01m{\u001b[39;00mnot_found\u001b[38;5;132;01m}\u001b[39;00m\u001b[33m not in index\u001b[39m\u001b[33m\"\u001b[39m)\n",
      "\u001b[31mKeyError\u001b[39m: '[Ellipsis] not in index'"
     ]
    }
   ],
   "source": [
    "# Load CSV and check shape\n",
    "df = pd.read_csv('engineering_data_IMPRV.csv')\n",
    "\n",
    "# Select features and targets\n",
    "numerical_features = [...]\n",
    "categorical_features = ['gender', 'domain', 'referral']\n",
    "target_col_college = 'college_tier'\n",
    "target_col_salary = 'salary'\n",
    "\n",
    "# Keep only the required columns\n",
    "required_columns = numerical_features + categorical_features + [target_col_college, target_col_salary]\n",
    "df = df[required_columns]\n",
    "print(\"✅ Data loaded successfully. Shape:\", df.shape)\n"
   ]
  },
  {
   "cell_type": "code",
   "execution_count": null,
   "id": "b7a79688",
   "metadata": {},
   "outputs": [],
   "source": [
    "# Distribution plots for numerical\n",
    "df[numerical_features].hist(figsize=(18, 12), bins=20)\n",
    "plt.suptitle(\"Numerical Features Distribution\")\n",
    "plt.show()\n",
    "\n",
    "# Count plots for categorical\n",
    "for col in categorical_features + [target_col_college]:\n",
    "    plt.figure(figsize=(6, 4))\n",
    "    sns.countplot(data=df, x=col, palette=\"viridis\")\n",
    "    plt.title(f\"Count Plot for {col}\")\n",
    "    plt.xticks(rotation=45)\n",
    "    plt.show()\n",
    "\n",
    "# Correlation matrix\n",
    "plt.figure(figsize=(12, 10))\n",
    "sns.heatmap(df[numerical_features].corr(), annot=True, fmt=\".2f\", cmap='coolwarm')\n",
    "plt.title(\"Correlation Matrix for Numerical Features\")\n",
    "plt.show()\n"
   ]
  },
  {
   "cell_type": "code",
   "execution_count": null,
   "id": "1b6502e7",
   "metadata": {},
   "outputs": [],
   "source": [
    "# Encode target\n",
    "college_hierarchy = ['Private College', 'State College', 'NIT', 'Mid IIT', 'Top IIT']\n",
    "college_encoder = OrdinalEncoder(categories=[college_hierarchy])\n",
    "df['college_tier_encoded'] = college_encoder.fit_transform(df[[target_col_college]])\n",
    "\n",
    "# Define input and output\n",
    "X = df[numerical_features + categorical_features]\n",
    "y_college = df['college_tier_encoded']\n",
    "y_salary = df[target_col_salary]\n",
    "\n",
    "# Split\n",
    "X_train, X_test, y_college_train, y_college_test, y_salary_train, y_salary_test = train_test_split(\n",
    "    X, y_college, y_salary, test_size=0.2, random_state=42\n",
    ")\n"
   ]
  },
  {
   "cell_type": "code",
   "execution_count": null,
   "id": "c8b301c5",
   "metadata": {},
   "outputs": [],
   "source": [
    "plt.figure(figsize=(12, 5))\n",
    "plt.subplot(1, 2, 1)\n",
    "sns.countplot(x=y_college_train.astype(int), palette=\"magma\")\n",
    "plt.title(\"Training Set - College Tier Distribution\")\n",
    "plt.xlabel(\"Encoded College Tier\")\n",
    "plt.subplot(1, 2, 2)\n",
    "sns.countplot(x=y_college_test.astype(int), palette=\"magma\")\n",
    "plt.title(\"Test Set - College Tier Distribution\")\n",
    "plt.xlabel(\"Encoded College Tier\")\n",
    "plt.show()\n"
   ]
  },
  {
   "cell_type": "code",
   "execution_count": null,
   "id": "e9090ff3",
   "metadata": {},
   "outputs": [],
   "source": [
    "preprocessor = ColumnTransformer([\n",
    "    ('num', StandardScaler(), numerical_features),\n",
    "    ('cat', OneHotEncoder(handle_unknown='ignore'), categorical_features)\n",
    "])\n",
    "\n",
    "college_pipeline = Pipeline([\n",
    "    ('preprocessor', preprocessor),\n",
    "    ('model', XGBClassifier(objective='multi:softmax', eval_metric='mlogloss', use_label_encoder=False))\n",
    "])\n",
    "\n",
    "salary_pipeline = Pipeline([\n",
    "    ('preprocessor', preprocessor),\n",
    "    ('model', XGBRegressor(objective='reg:squarederror', random_state=42))\n",
    "])\n"
   ]
  },
  {
   "cell_type": "code",
   "execution_count": null,
   "id": "417779b5",
   "metadata": {},
   "outputs": [],
   "source": [
    "# Set hyperparameters\n",
    "college_params = {\n",
    "    'model__n_estimators': [500, 1000],\n",
    "    'model__learning_rate': [0.05, 0.1],\n",
    "    'model__max_depth': [5, 7]\n",
    "}\n",
    "salary_params = {\n",
    "    'model__n_estimators': [800, 1200],\n",
    "    'model__learning_rate': [0.05, 0.1],\n",
    "    'model__max_depth': [3, 5]\n",
    "}\n",
    "\n",
    "# Train models\n",
    "print(\"Training College Prediction Model...\")\n",
    "college_grid = GridSearchCV(college_pipeline, college_params, cv=5, scoring='accuracy', n_jobs=-1)\n",
    "college_grid.fit(X_train, y_college_train)\n",
    "best_college_model = college_grid.best_estimator_\n",
    "\n",
    "print(\"\\nTraining Salary Prediction Model...\")\n",
    "salary_grid = GridSearchCV(salary_pipeline, salary_params, cv=5, scoring='r2', n_jobs=-1)\n",
    "salary_grid.fit(X_train, y_salary_train)\n",
    "best_salary_model = salary_grid.best_estimator_\n"
   ]
  },
  {
   "cell_type": "code",
   "execution_count": null,
   "id": "29c9268b",
   "metadata": {},
   "outputs": [],
   "source": [
    "def evaluate_models():\n",
    "    college_preds = best_college_model.predict(X_test)\n",
    "    acc = accuracy_score(y_college_test, college_preds)\n",
    "    print(\"\\nCollege Prediction Accuracy:\", f\"{acc:.2%}\")\n",
    "    print(classification_report(y_college_test, college_preds, target_names=college_hierarchy))\n",
    "\n",
    "    plt.figure(figsize=(10, 8))\n",
    "    sns.heatmap(confusion_matrix(y_college_test, college_preds), annot=True, fmt='d', cmap='Blues',\n",
    "                xticklabels=college_hierarchy, yticklabels=college_hierarchy)\n",
    "    plt.title('College Tier Confusion Matrix')\n",
    "    plt.xlabel('Predicted')\n",
    "    plt.ylabel('Actual')\n",
    "    plt.show()\n",
    "\n",
    "    salary_preds = best_salary_model.predict(X_test)\n",
    "    print(\"\\nSalary Prediction Metrics:\")\n",
    "    print(\"MAE: ₹{:,.0f}\".format(mean_absolute_error(y_salary_test, salary_preds)))\n",
    "    print(\"RMSE: ₹{:,.0f}\".format(np.sqrt(mean_squared_error(y_salary_test, salary_preds))))\n",
    "    print(\"R² Score: {:.2%}\".format(r2_score(y_salary_test, salary_preds)))\n",
    "\n",
    "    plt.figure(figsize=(10, 6))\n",
    "    plt.scatter(y_salary_test, salary_preds, alpha=0.3)\n",
    "    plt.plot([y_salary_test.min(), y_salary_test.max()],\n",
    "             [y_salary_test.min(), y_salary_test.max()], 'r--')\n",
    "    plt.xlabel('Actual Salary')\n",
    "    plt.ylabel('Predicted Salary')\n",
    "    plt.title('Actual vs Predicted Salary')\n",
    "    plt.show()\n",
    "\n",
    "    # Feature importance\n",
    "    fig, ax = plt.subplots(1, 2, figsize=(18, 6))\n",
    "    features = best_college_model.named_steps['preprocessor'].get_feature_names_out()\n",
    "    pd.Series(best_college_model.named_steps['model'].feature_importances_, index=features).sort_values().plot.barh(ax=ax[0])\n",
    "    ax[0].set_title('College Prediction Feature Importance')\n",
    "\n",
    "    pd.Series(best_salary_model.named_steps['model'].feature_importances_, index=features).sort_values().plot.barh(ax=ax[1])\n",
    "    ax[1].set_title('Salary Prediction Feature Importance')\n",
    "    plt.tight_layout()\n",
    "    plt.show()\n",
    "\n",
    "# Call evaluation\n",
    "evaluate_models()\n"
   ]
  },
  {
   "cell_type": "code",
   "execution_count": null,
   "id": "3f3e6ba4",
   "metadata": {},
   "outputs": [],
   "source": [
    "def predict_admission_interactive():\n",
    "    # widgets defined...\n",
    "    # on_submit logic...\n",
    "    # display UI\n",
    "\n",
    "predict_admission_interactive()\n"
   ]
  },
  {
   "cell_type": "code",
   "execution_count": null,
   "id": "1a8b1b97",
   "metadata": {},
   "outputs": [],
   "source": [
    "def predict_admission_interactive():\n",
    "    # widgets defined...\n",
    "    # on_submit logic...\n",
    "    # display UI\n",
    "\n",
    "predict_admission_interactive()\n"
   ]
  }
 ],
 "metadata": {
  "kernelspec": {
   "display_name": "Python 3",
   "language": "python",
   "name": "python3"
  },
  "language_info": {
   "codemirror_mode": {
    "name": "ipython",
    "version": 3
   },
   "file_extension": ".py",
   "mimetype": "text/x-python",
   "name": "python",
   "nbconvert_exporter": "python",
   "pygments_lexer": "ipython3",
   "version": "3.13.1"
  }
 },
 "nbformat": 4,
 "nbformat_minor": 5
}
